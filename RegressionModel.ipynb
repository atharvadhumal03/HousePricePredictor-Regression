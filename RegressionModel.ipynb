{
 "cells": [
  {
   "cell_type": "markdown",
   "id": "f3baf1de",
   "metadata": {
    "vscode": {
     "languageId": "plaintext"
    }
   },
   "source": [
    "## Regression Model Notebook"
   ]
  }
 ],
 "metadata": {
  "language_info": {
   "name": "python"
  }
 },
 "nbformat": 4,
 "nbformat_minor": 5
}
